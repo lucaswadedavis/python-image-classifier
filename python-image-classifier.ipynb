{
 "cells": [
  {
   "cell_type": "code",
   "execution_count": 15,
   "metadata": {
    "collapsed": true
   },
   "outputs": [],
   "source": [
    "import pandas as pd\n",
    "import numpy as np\n",
    "import pylab as pl\n",
    "import PIL\n",
    "from PIL import Image\n",
    "import os\n",
    "import base64\n",
    "from StringIO import StringIO"
   ]
  },
  {
   "cell_type": "code",
   "execution_count": 16,
   "metadata": {
    "collapsed": true
   },
   "outputs": [],
   "source": [
    "from sklearn.decomposition import RandomizedPCA\n",
    "from sklearn.neighbors import KNeighborsClassifier"
   ]
  },
  {
   "cell_type": "code",
   "execution_count": 17,
   "metadata": {
    "collapsed": true
   },
   "outputs": [],
   "source": [
    "%matplotlib inline\n"
   ]
  },
  {
   "cell_type": "code",
   "execution_count": 40,
   "metadata": {
    "collapsed": true
   },
   "outputs": [],
   "source": [
    "#setup a standard image size; this will distort some images but will get everything into the same shape\n",
    "STANDARD_SIZE = (300, 167)\n",
    "def img_to_matrix(filename, verbose=False):\n",
    "    \"\"\"\n",
    "    takes a filename and turns it into a numpy array of RGB pixels\n",
    "    \"\"\"\n",
    "    img = PIL.Image.open(filename)\n",
    "    if verbose==True:\n",
    "        print \"changing size from %s to %s\" % (str(img.size), str(STANDARD_SIZE))\n",
    "    img = img.resize(STANDARD_SIZE)\n",
    "    img = list(img.getdata())\n",
    "    img = map(list, img)\n",
    "    img = np.array(img)\n",
    "    return img\n",
    "\n",
    "def flatten_image(img):\n",
    "    \"\"\"\n",
    "    takes in an (m, n) numpy array and flattens it \n",
    "    into an array of shape (1, m * n)\n",
    "    \"\"\"\n",
    "    s = img.shape[0] * img.shape[1]\n",
    "    img_wide = img.reshape(1, s)\n",
    "    return img_wide[0]"
   ]
  },
  {
   "cell_type": "code",
   "execution_count": 48,
   "metadata": {
    "collapsed": false
   },
   "outputs": [
    {
     "data": {
      "text/plain": [
       "array([[255, 255, 255, ...,  92, 110, 110],\n",
       "       [149,  59, 206, ...,  66,  27,  74],\n",
       "       [255, 255, 255, ...,  92, 110, 110],\n",
       "       ..., \n",
       "       [213, 211, 214, ..., 249, 204, 185],\n",
       "       [ 48,  37,  79, ...,  65,  19, 117],\n",
       "       [213, 211, 214, ..., 249, 204, 185]])"
      ]
     },
     "execution_count": 48,
     "metadata": {},
     "output_type": "execute_result"
    }
   ],
   "source": [
    "img_dir = 'images/'\n",
    "images = [img_dir+ f for f in os.listdir(img_dir)]\n",
    "labels = [\"check\" if \"check\" in f.split('/')[-1] else \"drivers_license\" for f in images]\n",
    "\n",
    "data = []\n",
    "for image in images:\n",
    "    img = img_to_matrix(image)\n",
    "    img = flatten_image(img)\n",
    "    data.append(img)\n",
    "\n",
    "data = np.array(data)\n",
    "data"
   ]
  },
  {
   "cell_type": "code",
   "execution_count": 49,
   "metadata": {
    "collapsed": true
   },
   "outputs": [],
   "source": [
    "is_train = np.random.uniform(0, 1, len(data)) <= 0.7\n",
    "y = np.where(np.array(labels)==\"check\", 1, 0)\n",
    "\n",
    "train_x, train_y = data[is_train], y[is_train]\n",
    "test_x, test_y = data[is_train==False], y[is_train==False]"
   ]
  },
  {
   "cell_type": "code",
   "execution_count": 50,
   "metadata": {
    "collapsed": false,
    "scrolled": true
   },
   "outputs": [
    {
     "data": {
      "text/plain": [
       "<matplotlib.legend.Legend at 0x7f89dc8051d0>"
      ]
     },
     "execution_count": 50,
     "metadata": {},
     "output_type": "execute_result"
    },
    {
     "data": {
      "image/png": "[encoded data removed]",
      "text/plain": [
       "<matplotlib.figure.Figure at 0x7f89dc2c8d90>"
      ]
     },
     "metadata": {},
     "output_type": "display_data"
    }
   ],
   "source": [
    "pca = RandomizedPCA(n_components=2)\n",
    "X = pca.fit_transform(data)\n",
    "df = pd.DataFrame({\"x\": X[:, 0], \"y\": X[:, 1], \"label\":np.where(y==1, \"Check\", \"Drivers License\")})\n",
    "colors = [\"red\", \"yellow\"]\n",
    "for label, color in zip(df['label'].unique(), colors):\n",
    "    mask = df['label']==label\n",
    "    pl.scatter(df[mask]['x'], df[mask]['y'], c=color, label=label)\n",
    "pl.legend()"
   ]
  },
  {
   "cell_type": "code",
   "execution_count": 51,
   "metadata": {
    "collapsed": false
   },
   "outputs": [],
   "source": [
    "pca = RandomizedPCA(n_components=5)\n",
    "train_x = pca.fit_transform(train_x)\n",
    "test_x = pca.transform(test_x)"
   ]
  },
  {
   "cell_type": "code",
   "execution_count": 52,
   "metadata": {
    "collapsed": false
   },
   "outputs": [
    {
     "data": {
      "text/plain": [
       "array([[ 18183.78671969,   5637.57847158, -20383.46185523,  10498.17719661,\n",
       "          2058.52607388],\n",
       "       [  5207.94365077,  -1558.89154498,   6331.07823096,   3088.26647219,\n",
       "        -11586.08762498],\n",
       "       [  5207.94365077,  -1558.89154498,   6331.07823096,   3088.26647219,\n",
       "        -11586.08762498],\n",
       "       [ 14428.03299512,  -3572.17114147,  14739.47227574,   1972.13042032,\n",
       "          7087.06815142],\n",
       "       [ 14428.03299512,  -3572.17114147,  14739.47227574,   1972.13042032,\n",
       "          7087.06815142]])"
      ]
     },
     "execution_count": 52,
     "metadata": {},
     "output_type": "execute_result"
    }
   ],
   "source": [
    "train_x[:5]\n"
   ]
  },
  {
   "cell_type": "code",
   "execution_count": 53,
   "metadata": {
    "collapsed": false
   },
   "outputs": [
    {
     "data": {
      "text/plain": [
       "KNeighborsClassifier(algorithm='auto', leaf_size=30, metric='minkowski',\n",
       "           metric_params=None, n_jobs=1, n_neighbors=5, p=2,\n",
       "           weights='uniform')"
      ]
     },
     "execution_count": 53,
     "metadata": {},
     "output_type": "execute_result"
    }
   ],
   "source": [
    "knn = KNeighborsClassifier()\n",
    "knn.fit(train_x, train_y)"
   ]
  },
  {
   "cell_type": "code",
   "execution_count": 54,
   "metadata": {
    "collapsed": false
   },
   "outputs": [
    {
     "data": {
      "text/html": [
       "<div>\n",
       "<table border=\"1\" class=\"dataframe\">\n",
       "  <thead>\n",
       "    <tr style=\"text-align: right;\">\n",
       "      <th>Predicted</th>\n",
       "      <th>0</th>\n",
       "    </tr>\n",
       "    <tr>\n",
       "      <th>Actual</th>\n",
       "      <th></th>\n",
       "    </tr>\n",
       "  </thead>\n",
       "  <tbody>\n",
       "    <tr>\n",
       "      <th>0</th>\n",
       "      <td>8</td>\n",
       "    </tr>\n",
       "  </tbody>\n",
       "</table>\n",
       "</div>"
      ],
      "text/plain": [
       "Predicted  0\n",
       "Actual      \n",
       "0          8"
      ]
     },
     "execution_count": 54,
     "metadata": {},
     "output_type": "execute_result"
    }
   ],
   "source": [
    "pd.crosstab(test_y, knn.predict(test_x), rownames=[\"Actual\"], colnames=[\"Predicted\"])\n"
   ]
  },
  {
   "cell_type": "code",
   "execution_count": 55,
   "metadata": {
    "collapsed": false
   },
   "outputs": [
    {
     "data": {
      "text/plain": [
       "(300, 167)"
      ]
     },
     "execution_count": 55,
     "metadata": {},
     "output_type": "execute_result"
    }
   ],
   "source": [
    "STANDARD_SIZE"
   ]
  },
  {
   "cell_type": "code",
   "execution_count": 56,
   "metadata": {
    "collapsed": true
   },
   "outputs": [],
   "source": [
    "def string_to_img(image_string):\n",
    "    print \"called string_to_image\"\n",
    "    #we need to decode the image from base64\n",
    "    image_string = base64.decodestring(image_string)\n",
    "    #since we're seing this as a JSON string, we use StringIO so it acts like a file\n",
    "    img = StringIO(image_string)\n",
    "    img = PIL.Image.open(img)\n",
    "    img = img.resize(STANDARD_SIZE)\n",
    "    img = list(img.getdata())\n",
    "    img = map(list, img)\n",
    "    img = np.array(img)\n",
    "    s = img.shape[0] * img.shape[1]\n",
    "    img_wide = img.reshape(1, s)\n",
    "    return pca.transform(img_wide[0])"
   ]
  },
  {
   "cell_type": "code",
   "execution_count": 57,
   "metadata": {
    "collapsed": true
   },
   "outputs": [],
   "source": [
    "def classify_image(data):\n",
    "    print \"called classify_image\"\n",
    "    preds = knn.predict(data)\n",
    "    preds = np.where(preds==1, \"check\", \"drivers_license\")\n",
    "    pred = preds[0]\n",
    "    return {\"image_label\": pred}"
   ]
  },
  {
   "cell_type": "code",
   "execution_count": 58,
   "metadata": {
    "collapsed": true
   },
   "outputs": [],
   "source": [
    "def execute(data):\n",
    "    print \"called execute\"\n",
    "    img_string = data.get(\"image_as_base64_string\", None)\n",
    "    if img_string is None:\n",
    "        return {\"status\": \"error\", \"message\": \"data was None\", \"input_data\": data}\n",
    "    else:\n",
    "        img = string_to_img(img_string)\n",
    "        pred = classify_image(img)\n",
    "        return pred"
   ]
  },
  {
   "cell_type": "code",
   "execution_count": null,
   "metadata": {
    "collapsed": true
   },
   "outputs": [],
   "source": []
  }
 ],
 "metadata": {
  "kernelspec": {
   "display_name": "Python 2",
   "language": "python",
   "name": "python2"
  },
  "language_info": {
   "codemirror_mode": {
    "name": "ipython",
    "version": 2
   },
   "file_extension": ".py",
   "mimetype": "text/x-python",
   "name": "python",
   "nbconvert_exporter": "python",
   "pygments_lexer": "ipython2",
   "version": "2.7.11"
  }
 },
 "nbformat": 4,
 "nbformat_minor": 0
}
